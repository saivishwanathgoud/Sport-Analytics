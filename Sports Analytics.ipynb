{
 "cells": [
  {
   "cell_type": "code",
   "execution_count": 1,
   "metadata": {},
   "outputs": [],
   "source": [
    "import numpy as np\n",
    "# ^^^ pyforest auto-imports - don't write above this line\n",
    "#importing libraries\n",
    "import pyforest\n",
    "from plotly.offline import init_notebook_mode, iplot"
   ]
  },
  {
   "cell_type": "code",
   "execution_count": 2,
   "metadata": {},
   "outputs": [
    {
     "data": {
      "text/html": [
       "<div>\n",
       "<style scoped>\n",
       "    .dataframe tbody tr th:only-of-type {\n",
       "        vertical-align: middle;\n",
       "    }\n",
       "\n",
       "    .dataframe tbody tr th {\n",
       "        vertical-align: top;\n",
       "    }\n",
       "\n",
       "    .dataframe thead th {\n",
       "        text-align: right;\n",
       "    }\n",
       "</style>\n",
       "<table border=\"1\" class=\"dataframe\">\n",
       "  <thead>\n",
       "    <tr style=\"text-align: right;\">\n",
       "      <th></th>\n",
       "      <th>over_number</th>\n",
       "      <th>comm</th>\n",
       "      <th>score</th>\n",
       "      <th>match</th>\n",
       "      <th>year</th>\n",
       "      <th>batsman_bowler</th>\n",
       "      <th>bowler</th>\n",
       "      <th>batsman</th>\n",
       "      <th>innings_no</th>\n",
       "      <th>runs</th>\n",
       "      <th>batting_team</th>\n",
       "      <th>bowling_team</th>\n",
       "      <th>result</th>\n",
       "      <th>event</th>\n",
       "    </tr>\n",
       "  </thead>\n",
       "  <tbody>\n",
       "    <tr>\n",
       "      <td>0</td>\n",
       "      <td>19.6</td>\n",
       "      <td>Chris Morris to Axar, 1 run, widish yorker out...</td>\n",
       "      <td>172.0</td>\n",
       "      <td>rsa-vs-ind-3rd-t20i-india-tour-of-south-africa...</td>\n",
       "      <td>2018</td>\n",
       "      <td>Chris Morris to Axar</td>\n",
       "      <td>Chris Morris</td>\n",
       "      <td>Axar</td>\n",
       "      <td>1</td>\n",
       "      <td>1.0</td>\n",
       "      <td>ind</td>\n",
       "      <td>rsa</td>\n",
       "      <td>1</td>\n",
       "      <td>runs</td>\n",
       "    </tr>\n",
       "    <tr>\n",
       "      <td>1</td>\n",
       "      <td>19.5</td>\n",
       "      <td>Chris Morris to Bhuvneshwar, 3 runs, full toss...</td>\n",
       "      <td>171.0</td>\n",
       "      <td>rsa-vs-ind-3rd-t20i-india-tour-of-south-africa...</td>\n",
       "      <td>2018</td>\n",
       "      <td>Chris Morris to Bhuvneshwar</td>\n",
       "      <td>Chris Morris</td>\n",
       "      <td>Bhuvneshwar</td>\n",
       "      <td>1</td>\n",
       "      <td>3.0</td>\n",
       "      <td>ind</td>\n",
       "      <td>rsa</td>\n",
       "      <td>1</td>\n",
       "      <td>runs</td>\n",
       "    </tr>\n",
       "    <tr>\n",
       "      <td>2</td>\n",
       "      <td>19.4</td>\n",
       "      <td>Chris Morris to Karthik, &lt;b&gt;out&lt;/b&gt; Lbw!! Kart...</td>\n",
       "      <td>168.0</td>\n",
       "      <td>rsa-vs-ind-3rd-t20i-india-tour-of-south-africa...</td>\n",
       "      <td>2018</td>\n",
       "      <td>Chris Morris to Karthik</td>\n",
       "      <td>Chris Morris</td>\n",
       "      <td>Karthik</td>\n",
       "      <td>1</td>\n",
       "      <td>0.0</td>\n",
       "      <td>ind</td>\n",
       "      <td>rsa</td>\n",
       "      <td>1</td>\n",
       "      <td>out</td>\n",
       "    </tr>\n",
       "    <tr>\n",
       "      <td>3</td>\n",
       "      <td>19.4</td>\n",
       "      <td>Chris Morris to Karthik, &lt;b&gt;wide&lt;/b&gt;, another ...</td>\n",
       "      <td>168.0</td>\n",
       "      <td>rsa-vs-ind-3rd-t20i-india-tour-of-south-africa...</td>\n",
       "      <td>2018</td>\n",
       "      <td>Chris Morris to Karthik</td>\n",
       "      <td>Chris Morris</td>\n",
       "      <td>Karthik</td>\n",
       "      <td>1</td>\n",
       "      <td>1.0</td>\n",
       "      <td>ind</td>\n",
       "      <td>rsa</td>\n",
       "      <td>1</td>\n",
       "      <td>runs</td>\n",
       "    </tr>\n",
       "    <tr>\n",
       "      <td>4</td>\n",
       "      <td>19.3</td>\n",
       "      <td>Chris Morris to Karthik, &lt;b&gt;FOUR&lt;/b&gt;, low full...</td>\n",
       "      <td>167.0</td>\n",
       "      <td>rsa-vs-ind-3rd-t20i-india-tour-of-south-africa...</td>\n",
       "      <td>2018</td>\n",
       "      <td>Chris Morris to Karthik</td>\n",
       "      <td>Chris Morris</td>\n",
       "      <td>Karthik</td>\n",
       "      <td>1</td>\n",
       "      <td>4.0</td>\n",
       "      <td>ind</td>\n",
       "      <td>rsa</td>\n",
       "      <td>1</td>\n",
       "      <td>runs</td>\n",
       "    </tr>\n",
       "  </tbody>\n",
       "</table>\n",
       "</div>"
      ],
      "text/plain": [
       "   over_number                                               comm  score  \\\n",
       "0         19.6  Chris Morris to Axar, 1 run, widish yorker out...  172.0   \n",
       "1         19.5  Chris Morris to Bhuvneshwar, 3 runs, full toss...  171.0   \n",
       "2         19.4  Chris Morris to Karthik, <b>out</b> Lbw!! Kart...  168.0   \n",
       "3         19.4  Chris Morris to Karthik, <b>wide</b>, another ...  168.0   \n",
       "4         19.3  Chris Morris to Karthik, <b>FOUR</b>, low full...  167.0   \n",
       "\n",
       "                                               match  year  \\\n",
       "0  rsa-vs-ind-3rd-t20i-india-tour-of-south-africa...  2018   \n",
       "1  rsa-vs-ind-3rd-t20i-india-tour-of-south-africa...  2018   \n",
       "2  rsa-vs-ind-3rd-t20i-india-tour-of-south-africa...  2018   \n",
       "3  rsa-vs-ind-3rd-t20i-india-tour-of-south-africa...  2018   \n",
       "4  rsa-vs-ind-3rd-t20i-india-tour-of-south-africa...  2018   \n",
       "\n",
       "                batsman_bowler         bowler       batsman  innings_no  runs  \\\n",
       "0         Chris Morris to Axar  Chris Morris           Axar           1   1.0   \n",
       "1  Chris Morris to Bhuvneshwar  Chris Morris    Bhuvneshwar           1   3.0   \n",
       "2      Chris Morris to Karthik  Chris Morris        Karthik           1   0.0   \n",
       "3      Chris Morris to Karthik  Chris Morris        Karthik           1   1.0   \n",
       "4      Chris Morris to Karthik  Chris Morris        Karthik           1   4.0   \n",
       "\n",
       "  batting_team bowling_team  result event  \n",
       "0          ind          rsa       1  runs  \n",
       "1          ind          rsa       1  runs  \n",
       "2          ind          rsa       1   out  \n",
       "3          ind          rsa       1  runs  \n",
       "4          ind          rsa       1  runs  "
      ]
     },
     "execution_count": 2,
     "metadata": {},
     "output_type": "execute_result"
    }
   ],
   "source": [
    "#load the data into dataframe \n",
    "df = pd.read_csv(\"C://Users//Chintu//Downloads//commentary.csv\")\n",
    "df.head()"
   ]
  },
  {
   "cell_type": "code",
   "execution_count": 3,
   "metadata": {},
   "outputs": [
    {
     "name": "stdout",
     "output_type": "stream",
     "text": [
      "<class 'pandas.core.frame.DataFrame'>\n",
      "RangeIndex: 6781 entries, 0 to 6780\n",
      "Data columns (total 14 columns):\n",
      "over_number       6781 non-null float64\n",
      "comm              6781 non-null object\n",
      "score             6781 non-null float64\n",
      "match             6781 non-null object\n",
      "year              6781 non-null int64\n",
      "batsman_bowler    6781 non-null object\n",
      "bowler            6781 non-null object\n",
      "batsman           6781 non-null object\n",
      "innings_no        6781 non-null int64\n",
      "runs              6781 non-null float64\n",
      "batting_team      6781 non-null object\n",
      "bowling_team      6781 non-null object\n",
      "result            6781 non-null int64\n",
      "event             6781 non-null object\n",
      "dtypes: float64(3), int64(3), object(8)\n",
      "memory usage: 741.8+ KB\n"
     ]
    }
   ],
   "source": [
    "#Dataframe info and column datatype\n",
    "df.info()"
   ]
  },
  {
   "cell_type": "markdown",
   "metadata": {},
   "source": [
    "###  1) Number of matches played by India. "
   ]
  },
  {
   "cell_type": "code",
   "execution_count": 4,
   "metadata": {},
   "outputs": [
    {
     "name": "stdout",
     "output_type": "stream",
     "text": [
      "Total no. of matches India played: 28\n"
     ]
    }
   ],
   "source": [
    "batting_df=df[df['batting_team']=='ind']\n",
    "num = len(batting_df['match'].unique())\n",
    "print(\"Total no. of matches India played:\",num)"
   ]
  },
  {
   "cell_type": "markdown",
   "metadata": {},
   "source": [
    "### 2) Number of T20's India played every year. "
   ]
  },
  {
   "cell_type": "code",
   "execution_count": 5,
   "metadata": {},
   "outputs": [
    {
     "data": {
      "text/plain": [
       "<seaborn.axisgrid.FacetGrid at 0x1e8ce701048>"
      ]
     },
     "execution_count": 5,
     "metadata": {},
     "output_type": "execute_result"
    },
    {
     "data": {
      "image/png": "[encoded data removed]",
      "text/plain": [
       "<Figure size 360x360 with 1 Axes>"
      ]
     },
     "metadata": {
      "needs_background": "light"
     },
     "output_type": "display_data"
    }
   ],
   "source": [
    "num_matches = df.groupby(['year']).apply(lambda x:x['match'].nunique()).reset_index(name = 'No of matches')\n",
    "%matplotlib inline\n",
    "sns.catplot(x=\"year\", y=\"No of matches\", kind=\"bar\", data=num_matches).set(title = 'Number of T20s played by India')"
   ]
  },
  {
   "cell_type": "markdown",
   "metadata": {},
   "source": [
    "### 3) Team Average Score (Batting First & Second)."
   ]
  },
  {
   "cell_type": "code",
   "execution_count": 23,
   "metadata": {},
   "outputs": [
    {
     "data": {
      "application/javascript": [
       "\n",
       "        if (window._pyforest_update_imports_cell) { window._pyforest_update_imports_cell('import numpy as np'); }\n",
       "    "
      ],
      "text/plain": [
       "<IPython.core.display.Javascript object>"
      ]
     },
     "metadata": {},
     "output_type": "display_data"
    },
    {
     "name": "stdout",
     "output_type": "stream",
     "text": [
      "Batting First Average score: 185.0\n"
     ]
    },
    {
     "data": {
      "application/javascript": [
       "\n",
       "        if (window._pyforest_update_imports_cell) { window._pyforest_update_imports_cell('import numpy as np'); }\n",
       "    "
      ],
      "text/plain": [
       "<IPython.core.display.Javascript object>"
      ]
     },
     "metadata": {},
     "output_type": "display_data"
    },
    {
     "name": "stdout",
     "output_type": "stream",
     "text": [
      "Batting Second Average score: 160.0\n"
     ]
    }
   ],
   "source": [
    "score = batting_df.groupby(['year','match','innings_no']).apply(lambda x:x['runs'].sum()).reset_index(name='score')\n",
    "print(\"Batting First Average score:\",np.median(score[score['innings_no']==1]['score'].values))\n",
    "print(\"Batting Second Average score:\",np.median(score[score['innings_no']==2]['score'].values))"
   ]
  },
  {
   "cell_type": "markdown",
   "metadata": {},
   "source": [
    "### 4) Team Average Innings wise over the years."
   ]
  },
  {
   "cell_type": "code",
   "execution_count": 42,
   "metadata": {},
   "outputs": [
    {
     "data": {
      "application/javascript": [
       "\n",
       "        if (window._pyforest_update_imports_cell) { window._pyforest_update_imports_cell('import numpy as np'); }\n",
       "    "
      ],
      "text/plain": [
       "<IPython.core.display.Javascript object>"
      ]
     },
     "metadata": {},
     "output_type": "display_data"
    },
    {
     "data": {
      "application/javascript": [
       "\n",
       "        if (window._pyforest_update_imports_cell) { window._pyforest_update_imports_cell('import numpy as np'); }\n",
       "    "
      ],
      "text/plain": [
       "<IPython.core.display.Javascript object>"
      ]
     },
     "metadata": {},
     "output_type": "display_data"
    },
    {
     "data": {
      "application/javascript": [
       "\n",
       "        if (window._pyforest_update_imports_cell) { window._pyforest_update_imports_cell('import numpy as np'); }\n",
       "    "
      ],
      "text/plain": [
       "<IPython.core.display.Javascript object>"
      ]
     },
     "metadata": {},
     "output_type": "display_data"
    },
    {
     "data": {
      "application/javascript": [
       "\n",
       "        if (window._pyforest_update_imports_cell) { window._pyforest_update_imports_cell('import numpy as np'); }\n",
       "    "
      ],
      "text/plain": [
       "<IPython.core.display.Javascript object>"
      ]
     },
     "metadata": {},
     "output_type": "display_data"
    },
    {
     "data": {
      "text/plain": [
       "<matplotlib.axes._subplots.AxesSubplot at 0x1e8d01066c8>"
      ]
     },
     "execution_count": 42,
     "metadata": {},
     "output_type": "execute_result"
    },
    {
     "data": {
      "image/png": "[encoded data removed]",
      "text/plain": [
       "<Figure size 432x288 with 1 Axes>"
      ]
     },
     "metadata": {
      "needs_background": "light"
     },
     "output_type": "display_data"
    }
   ],
   "source": [
    "#Split the above score dataframe\n",
    "first_innings_df=score[score['innings_no']==1]\n",
    "second_innings_df=score[score['innings_no']==2]\n",
    "\n",
    "df1=first_innings_df.groupby('year').apply(lambda x:np.median(x['score'].values)).reset_index(name='score')\n",
    "df2=second_innings_df.groupby('year').apply(lambda x:np.median(x['score'].values)).reset_index(name='score')\n",
    "\n",
    "data = {\"Batting First\": df1['score'].values,\n",
    "\"Batting Second\":df2['score'].values\n",
    "}\n",
    "\n",
    "index = df1['year'].values\n",
    "\n",
    "# Dictionary loaded into a DataFrame \n",
    "dataFrame = pd.DataFrame(data=data, index=index)\n",
    "\n",
    "dataFrame.plot(kind = 'bar', title = 'Team Average Innings wise over the years', rot = 0)"
   ]
  },
  {
   "cell_type": "markdown",
   "metadata": {},
   "source": [
    "from the above graph we can infer, that the Batting Average of Indian team is high when batting first. "
   ]
  },
  {
   "cell_type": "markdown",
   "metadata": {},
   "source": [
    "### 5) Overall Winning % (Batting First & Second)."
   ]
  },
  {
   "cell_type": "code",
   "execution_count": 57,
   "metadata": {},
   "outputs": [
    {
     "name": "stdout",
     "output_type": "stream",
     "text": [
      "Over all Winning %: 67.85714285714286\n",
      "Batting First Winning % : 50.0\n",
      "Batting Second Winning % : 85.71428571428571\n"
     ]
    }
   ],
   "source": [
    "grp = batting_df.groupby('match').first().reset_index()\n",
    "matches_won = grp[grp['innings_no'] == grp['result']]\n",
    "print(\"Over all Winning %:\",(matches_won.shape[0]/num)*100)\n",
    "\n",
    "#Batting first & second\n",
    "first  = grp[grp['innings_no'] == 1]\n",
    "second = grp[grp['innings_no'] == 2]\n",
    "\n",
    "#Batting first winning %\n",
    "won1 = first[first['innings_no'] == first['result']]\n",
    "print(\"Batting First Winning % :\",(won1.shape[0]/first.shape[0])*100)\n",
    "\n",
    "#Batting secong winning %\n",
    "won2 = second[second['innings_no'] == second['result']]\n",
    "print(\"Batting Second Winning % :\",(won2.shape[0]/second.shape[0])*100)"
   ]
  },
  {
   "cell_type": "markdown",
   "metadata": {},
   "source": [
    "From the above result, we can infer Indian team has better winning % in chasing (batting second)"
   ]
  },
  {
   "cell_type": "markdown",
   "metadata": {},
   "source": [
    "### 6) Winning % against different teams."
   ]
  },
  {
   "cell_type": "code",
   "execution_count": 69,
   "metadata": {},
   "outputs": [
    {
     "data": {
      "image/png": "[encoded data removed]",
      "text/plain": [
       "<Figure size 720x432 with 1 Axes>"
      ]
     },
     "metadata": {
      "needs_background": "light"
     },
     "output_type": "display_data"
    }
   ],
   "source": [
    "df1 = grp.groupby('bowling_team').apply(lambda x:x.shape[0]).reset_index(name='no')\n",
    "df2=grp.groupby('bowling_team').apply(lambda x: x[x['innings_no']==x['result']].shape[0]).reset_index(name='won')\n",
    "df2['Win %']=df2['won']/df1['no']\n",
    "fig=df2.plot.bar(x=\"bowling_team\", y=\"Win %\", rot=0, title=\"Win % against different teams\",figsize=(10,6)).get_figure()"
   ]
  },
  {
   "cell_type": "markdown",
   "metadata": {},
   "source": [
    "India wins almost all the matches when playing against Bangladesh and Ireland"
   ]
  },
  {
   "cell_type": "code",
   "execution_count": null,
   "metadata": {},
   "outputs": [],
   "source": []
  }
 ],
 "metadata": {
  "kernelspec": {
   "display_name": "Python 3",
   "language": "python",
   "name": "python3"
  },
  "language_info": {
   "codemirror_mode": {
    "name": "ipython",
    "version": 3
   },
   "file_extension": ".py",
   "mimetype": "text/x-python",
   "name": "python",
   "nbconvert_exporter": "python",
   "pygments_lexer": "ipython3",
   "version": "3.7.4"
  }
 },
 "nbformat": 4,
 "nbformat_minor": 2
}
